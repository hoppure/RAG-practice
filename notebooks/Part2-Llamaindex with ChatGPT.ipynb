{
 "cells": [
  {
   "cell_type": "code",
   "execution_count": null,
   "id": "b0e03aef-4d38-470b-a3e8-3f7e98be5c88",
   "metadata": {},
   "outputs": [],
   "source": [
    "import os\n",
    "\n",
    "api_"
   ]
  }
 ],
 "metadata": {
  "kernelspec": {
   "display_name": "Python 3 (ipykernel)",
   "language": "python",
   "name": "python3"
  },
  "language_info": {
   "codemirror_mode": {
    "name": "ipython",
    "version": 3
   },
   "file_extension": ".py",
   "mimetype": "text/x-python",
   "name": "python",
   "nbconvert_exporter": "python",
   "pygments_lexer": "ipython3",
   "version": "3.12.7"
  }
 },
 "nbformat": 4,
 "nbformat_minor": 5
}
